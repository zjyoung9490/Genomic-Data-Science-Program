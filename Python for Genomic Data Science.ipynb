{
 "cells": [
  {
   "cell_type": "code",
   "execution_count": 66,
   "metadata": {},
   "outputs": [
    {
     "name": "stdout",
     "output_type": "stream",
     "text": [
      "Collecting biopython\n",
      "  Downloading https://files.pythonhosted.org/packages/80/91/4f59b312c3c43bbe35ee1df25256b6f3fccd7f9a7baf95145ea7a1a4f6dc/biopython-1.79-cp37-cp37m-win_amd64.whl (2.3MB)\n",
      "Requirement already satisfied: numpy in c:\\users\\mike1\\anaconda3\\lib\\site-packages (from biopython) (1.16.2)\n",
      "Installing collected packages: biopython\n",
      "Successfully installed biopython-1.79\n",
      "Note: you may need to restart the kernel to use updated packages.\n"
     ]
    }
   ],
   "source": [
    "pip install biopython"
   ]
  },
  {
   "cell_type": "code",
   "execution_count": 252,
   "metadata": {},
   "outputs": [
    {
     "name": "stdout",
     "output_type": "stream",
     "text": [
      "gi|1783584753|gb|MN651324.1| Nicotiana tabacum strain zhongyan90 cytoplasmic male sterility(CMS) line cultivar MSzhongyan90 mitochondrion, complete genome\n",
      "gi|1783584659|gb|MN651323.1| Nicotiana tabacum strain zhongyan90 maintainer line cultivar zhongyan90 mitochondrion, complete genome\n",
      "gi|1783584536|gb|MN651322.1| Nicotiana tabacum strain yunyan85 cytoplasmic male sterility(CMS) line cultivar MSyunyan85 mitochondrion, complete genome\n",
      "gi|1783584454|gb|MN651321.1| Nicotiana tabacum cultivar Yunyan85 mitochondrion, complete genome\n",
      "gi|1741436215|gb|MH168703.1| Nicotiana tabacum/Hyoscyamus niger cybrid isolate rcMv-1-1g_c2 mitochondrion, complete sequence\n",
      "gi|1241191387|gb|MF579563.1| Nicotiana attenuata mitochondrion, complete genome\n",
      "gi|1008910429|gb|KT997964.1| Nicotiana sylvestris cultivar TW 137 mitochondrion, complete genome\n",
      "gi|927029471|gb|KR780036.1| Nicotiana tabacum cultivar zhongyan 100 mitochondrion, complete genome\n",
      "gi|916446276|gb|KT179379.1| Evolvulus nuttallianus voucher Aust 160 cytochrome c oxidase subunit 3 (coxIII) gene, complete cds; mitochondrial\n",
      "gi|756762107|gb|KM207679.1| Nicotiana tabacum/Hyoscyamus niger cybrid clone contig2 mitochondrion, complete sequence\n",
      "gi|698585445|ref|XM_009780350.1| PREDICTED: Nicotiana sylvestris cytochrome c oxidase subunit 3 (LOC104227970), mRNA\n",
      "gi|1904806381|ref|NC_050335.1| Solanum aethiopicum isolate NN4 mitochondrion, complete genome\n",
      "gi|1904806331|ref|NC_050334.1| Solanum melongena isolate NN20 mitochondrion, complete genome\n",
      "gi|1883212036|gb|MT122988.1| Solanum aethiopicum isolate NN3 mitochondrion, complete genome\n",
      "gi|1883211983|gb|MT122986.1| Solanum melongena isolate NN5 chromosome 1 mitochondrion, complete sequence\n",
      "gi|1883211930|gb|MT122984.1| Solanum melongena isolate NN10 chromosome 1 mitochondrion, complete sequence\n",
      "gi|1883211881|gb|MT122982.1| Solanum anguivi isolate NN13 chromosome 1 mitochondrion, complete sequence\n",
      "gi|1883211832|gb|MT122980.1| Solanum anguivi isolate NN14 chromosome 1 mitochondrion, complete sequence\n",
      "gi|1883211730|gb|MT122977.1| Solanum aethiopicum isolate NN1 mitochondrion, complete genome\n",
      "gi|1883211677|gb|MT122975.1| Solanum melongena isolate NN18 chromosome 1 mitochondrion, complete sequence\n",
      "gi|1883211652|gb|MT122974.1| Solanum aethiopicum isolate NN2 chromosome 2 mitochondrion, complete sequence\n",
      "gi|1883211572|gb|MT122970.1| Solanum macrocarpon isolate NN6 chromosome 1 mitochondrion, complete sequence\n",
      "gi|1883211523|gb|MT122969.1| Solanum aethiopicum isolate NN17 mitochondrion, complete genome\n",
      "gi|1883211471|gb|MT122967.1| Solanum melongena isolate NN7 chromosome 1 mitochondrion, complete sequence\n",
      "gi|1883211427|gb|MT122966.1| Solanum aethiopicum isolate NN4 mitochondrion, complete genome\n",
      "gi|1883211333|gb|MT122963.1| Solanum melongena isolate NN19 mitochondrion, complete genome\n",
      "gi|1883211284|gb|MT122962.1| Solanum melongena isolate NN20 mitochondrion, complete genome\n",
      "gi|1883211235|gb|MT122960.1| Solanum melongena isolate NN8 chromosome 1 mitochondrion, complete sequence\n",
      "gi|1883211137|gb|MT122956.1| Solanum melongena isolate NN11 chromosome 1 mitochondrion, complete sequence\n",
      "gi|1883211112|gb|MT122955.1| Solanum aethiopicum isolate NN16 chromosome 2 mitochondrion, complete sequence\n",
      "gi|56806513|dbj|BA000042.1| Nicotiana tabacum mitochondrial DNA, complete genome\n",
      "gi|2104696273|gb|MW594284.1| Solanum okadae clone OKA15 chromosome 3 mitochondrion, complete sequence\n",
      "gi|2104696187|gb|MW594280.1| Solanum tuberosum clone 10908-06 chromosome 2 mitochondrion, complete sequence\n",
      "gi|2104696112|gb|MW594277.1| Solanum tuberosum clone W5281.2 chromosome 2 mitochondrion, complete sequence\n",
      "gi|2104696037|gb|MW594274.1| Solanum tuberosum clone 12625-02 chromosome 2 mitochondrion, complete sequence\n",
      "gi|2104695962|gb|MW594271.1| Solanum tuberosum clone 12120-03 chromosome 2 mitochondrion, complete sequence\n",
      "gi|2104695887|gb|MW594268.1| Solanum tuberosum clone 11379-03 chromosome 2 mitochondria, complete sequence\n",
      "gi|2104695773|gb|MW594264.1| Solanum tuberosum clone DW84-1457 chromosome 2 mitochondria, complete sequence\n",
      "gi|2104695659|gb|MW594260.1| Solanum tuberosum clone H412-1 chromosome 2 mitochondria, complete sequence\n",
      "gi|2104695545|gb|MW594256.1| Solanum tuberosum clone 08675-21 chromosome 2 mitochondria, complete sequence\n",
      "gi|2104695431|gb|MW594252.1| Solanum tuberosum clone 07506-01 chromosome 2 mitochondria, complete sequence\n",
      "gi|2099744680|emb|OU640354.1| Solanum lycopersicum genome assembly, chromosome: 11\n",
      "gi|2099744680|emb|OU640354.1| Solanum lycopersicum genome assembly, chromosome: 11\n",
      "gi|1996569950|dbj|LC613141.1| Solanum lycopersicum Sekai-ichi mitochondrial DNA, contig: Sekai-ichiMt006, partial sequence\n",
      "gi|1996569950|dbj|LC613141.1| Solanum lycopersicum Sekai-ichi mitochondrial DNA, contig: Sekai-ichiMt006, partial sequence\n",
      "gi|1996569943|dbj|LC613134.1| Solanum acaule mitochondrial DNA, contig: SacauleMt006, partial sequence\n",
      "gi|1996569937|dbj|LC613128.1| Solanum lycopersicum var. cerasiforme LA1673 mitochondrial DNA, contig: LA1673Mt005, partial sequence\n",
      "gi|1996569937|dbj|LC613128.1| Solanum lycopersicum var. cerasiforme LA1673 mitochondrial DNA, contig: LA1673Mt005, partial sequence\n",
      "gi|1996569937|dbj|LC613128.1| Solanum lycopersicum var. cerasiforme LA1673 mitochondrial DNA, contig: LA1673Mt005, partial sequence\n",
      "gi|1996569935|dbj|LC613126.1| Solanum pimpinellifolium LA1670 mitochondrial DNA, contig: LA1670Mt010, partial sequence\n",
      "gi|1996569935|dbj|LC613126.1| Solanum pimpinellifolium LA1670 mitochondrial DNA, contig: LA1670Mt010, partial sequence\n",
      "gi|1996569935|dbj|LC613126.1| Solanum pimpinellifolium LA1670 mitochondrial DNA, contig: LA1670Mt010, partial sequence\n",
      "gi|1996569925|dbj|LC613116.1| Solanum lycopersicum CMS[O] mitochondrial DNA, contig: CMS-OMt015, partial sequence\n",
      "gi|1996569925|dbj|LC613116.1| Solanum lycopersicum CMS[O] mitochondrial DNA, contig: CMS-OMt015, partial sequence\n",
      "gi|1996569925|dbj|LC613116.1| Solanum lycopersicum CMS[O] mitochondrial DNA, contig: CMS-OMt015, partial sequence\n",
      "gi|1996569919|dbj|LC613110.1| Solanum lycopersicum CMS[MSA1] mitochondrial DNA, contig: CMS-MSA1Mt028, partial sequence\n",
      "gi|1996569915|dbj|LC613106.1| Solanum lycopersicum CMS[MSA1] mitochondrial DNA, contig: CMS-MSA1Mt003, partial sequence\n",
      "gi|1996569914|dbj|LC613105.1| Solanum lycopersicum CMS[MSA1] mitochondrial DNA, contig: CMS-MSA1Mt002, partial sequence\n"
     ]
    }
   ],
   "source": [
    "import Bio\n",
    "from Bio.Blast import NCBIWWW\n",
    "from Bio.Blast import NCBIXML\n",
    "\n",
    "# Run a BLAST search for a given sequence and read those results\n",
    "seq = \"TGGGCCTCATATTTATCCTATATACCATGTTCGTATGGTGGCGCGATGTTCTACGTGAATCCACGTTCGAAGGACATCATACCAAAGTCGTACAATTAGGACCTCGATATGGTTTTATTCTGTTTATCGTATCGGAGGTTATGTTCTTTTTTGCTCTTTTTCGGGCTTCTTCTCATTCTTCTTTGGCACCTACGGTAGAG\"\n",
    "results = NCBIWWW.qblast(\"blastn\", \"nt\", seq)\n",
    "blast_result = NCBIXML.read(results)\n",
    "\n",
    "# Print out the title of BLAST results\n",
    "for alignment in blast_result.alignments:\n",
    "    for hsp in alignment.hsps:\n",
    "        print(alignment.title)"
   ]
  },
  {
   "cell_type": "code",
   "execution_count": 254,
   "metadata": {},
   "outputs": [
    {
     "name": "stdout",
     "output_type": "stream",
     "text": [
      "Reverse complement is: acgtgaccaggat\n"
     ]
    }
   ],
   "source": [
    "# Use the Seq package to find the Reverse Complement of a given sequence\n",
    "\n",
    "from Bio.Seq import Seq\n",
    "my_seq = Seq(\"atcctggtcacgt\")\n",
    "print('Reverse complement is: %s' % my_seq.reverse_complement())"
   ]
  },
  {
   "cell_type": "code",
   "execution_count": 255,
   "metadata": {},
   "outputs": [
    {
     "data": {
      "text/plain": [
       "Seq('WASYLSYIPCSYGGAMFYVNPRSKDIIPKSYN*DLDMVLFCLSYRRLCSFLLFF...LR*')"
      ]
     },
     "execution_count": 255,
     "metadata": {},
     "output_type": "execute_result"
    }
   ],
   "source": [
    "# Find Protein Translation using Seq package\n",
    "seq = Seq(\"TGGGCCTCATATTTATCCTATATACCATGTTCGTATGGTGGCGCGATGTTCTACGTGAATCCACGTTCGAAGGACATCATACCAAAGTCGTACAATTAGGACCTCGATATGGTTTTATTCTGTTTATCGTATCGGAGGTTATGTTCTTTTTTGCTCTTTTTCGGGCTTCTTCTCATTCTTCTTTGGCACCTACGGTAGAG\")\n",
    "aa = seq.translate()\n",
    "aa"
   ]
  },
  {
   "cell_type": "code",
   "execution_count": 256,
   "metadata": {},
   "outputs": [
    {
     "name": "stdout",
     "output_type": "stream",
     "text": [
      "There were 18 sequences within the file\n"
     ]
    }
   ],
   "source": [
    "# Find how many records are in a given FASTA file?\n",
    "sequence_lines = 0\n",
    "\n",
    "for line in open('/Users/mike1/Downloads/dna2.fasta'):\n",
    "    line = line.rstrip()\n",
    "    if line.startswith('>'):\n",
    "        sequence_lines += 1\n",
    "\n",
    "print(\"There were {0} sequences within the file\".format(sequence_lines))"
   ]
  },
  {
   "cell_type": "code",
   "execution_count": 258,
   "metadata": {},
   "outputs": [
    {
     "name": "stdout",
     "output_type": "stream",
     "text": [
      "['gi|142022655|gb|EQ086233.1|91', 'gi|142022655|gb|EQ086233.1|304', 'gi|142022655|gb|EQ086233.1|255', 'gi|142022655|gb|EQ086233.1|45', 'gi|142022655|gb|EQ086233.1|396', 'gi|142022655|gb|EQ086233.1|250', 'gi|142022655|gb|EQ086233.1|322', 'gi|142022655|gb|EQ086233.1|88', 'gi|142022655|gb|EQ086233.1|594', 'gi|142022655|gb|EQ086233.1|293', 'gi|142022655|gb|EQ086233.1|75', 'gi|142022655|gb|EQ086233.1|454', 'gi|142022655|gb|EQ086233.1|16', 'gi|142022655|gb|EQ086233.1|584', 'gi|142022655|gb|EQ086233.1|4', 'gi|142022655|gb|EQ086233.1|277', 'gi|142022655|gb|EQ086233.1|346', 'gi|142022655|gb|EQ086233.1|527']\n",
      "[4635, 1151, 4894, 3511, 4076, 2867, 442, 890, 967, 4338, 1352, 4564, 4804, 964, 2095, 1432, 115, 2646]\n",
      "\n",
      "The longest sequence is: 4894\n",
      "\n",
      "The shortest sequence is: 115\n"
     ]
    }
   ],
   "source": [
    "# Find the lengths of the sequences in the file? \n",
    "# What is the longest sequence and what is the shortest sequence?\n",
    "\n",
    "sequence_headers = []\n",
    "sequence_lengths = []\n",
    "\n",
    "f = open('/Users/mike1/Documents/dna2a.txt')\n",
    "\n",
    "for line in f:\n",
    "    line = line.rstrip()\n",
    "    if line.startswith('>'):\n",
    "        header = line.split()[0][1:]\n",
    "        sequence_headers.append(header)\n",
    "    else:\n",
    "        sequence_lengths.append(len(line))\n",
    "   \n",
    "\n",
    "print(sequence_headers)\n",
    "print(sequence_lengths)\n",
    "print(\"\\nThe longest sequence is: {0}\".format(max(sequence_lengths)))\n",
    "print(\"\\nThe shortest sequence is: {0}\".format(min(sequence_lengths)))"
   ]
  }
 ],
 "metadata": {
  "kernelspec": {
   "display_name": "Python 3",
   "language": "python",
   "name": "python3"
  },
  "language_info": {
   "codemirror_mode": {
    "name": "ipython",
    "version": 3
   },
   "file_extension": ".py",
   "mimetype": "text/x-python",
   "name": "python",
   "nbconvert_exporter": "python",
   "pygments_lexer": "ipython3",
   "version": "3.7.3"
  }
 },
 "nbformat": 4,
 "nbformat_minor": 2
}
